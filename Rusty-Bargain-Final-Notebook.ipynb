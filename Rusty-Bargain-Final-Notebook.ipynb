{
 "cells": [
  {
   "cell_type": "markdown",
   "id": "e792ec67-081e-49cd-bad1-324d56f9412d",
   "metadata": {},
   "source": [
    "# Rusty Bargain Models Evaluations"
   ]
  },
  {
   "cell_type": "markdown",
   "id": "2d3048bc-5a04-48a4-af0b-8829c8422b53",
   "metadata": {},
   "source": [
    "# Introduction"
   ]
  },
  {
   "cell_type": "markdown",
   "id": "981e59ee-2bdc-4741-8022-8df324a8057c",
   "metadata": {},
   "source": [
    "The company Rusty Bargain wants a model developed to predict the market value of a used car given certain specifications. The main goal of the project is to develop models using gradient boosting libraries (LightGBM, XGBoost, and/or CatBoost) in addition to Scikit-Learn's linear regression and random forest regression, which I am more accustomed with. I will compare the quality, training run time, and prediction run time of the models, after preprocessing the data."
   ]
  },
  {
   "cell_type": "code",
   "execution_count": 1,
   "id": "69b715a7-d932-40ea-a2bc-8ceea26f69cc",
   "metadata": {},
   "outputs": [],
   "source": [
    "import pandas as pd\n",
    "import numpy as np\n",
    "import matplotlib.pyplot as plt\n",
    "\n",
    "# from sklearnex import patch_sklearn # Enhanced performance package for Intel processors\n",
    "# patch_sklearn()\n",
    "\n",
    "from sklearn.ensemble import RandomForestRegressor\n",
    "from sklearn.linear_model import LinearRegression\n",
    "\n",
    "from sklearn.model_selection import train_test_split, cross_val_score, GridSearchCV\n",
    "from sklearn.metrics import mean_squared_error, r2_score, make_scorer\n",
    "from sklearn.preprocessing import OrdinalEncoder, StandardScaler\n",
    "\n",
    "from lightgbm import LGBMRegressor\n",
    "import catboost as cb\n",
    "from xgboost import XGBRegressor"
   ]
  },
  {
   "cell_type": "markdown",
   "id": "edcd66d5-6de8-4569-9f2c-83569e3559e2",
   "metadata": {},
   "source": [
    "# Load, process, & explore data"
   ]
  },
  {
   "cell_type": "code",
   "execution_count": 2,
   "id": "ca0e0710-53ec-4d57-8fa5-6f20d114b9a6",
   "metadata": {},
   "outputs": [],
   "source": [
    "try:\n",
    "    df = pd.read_csv('car_data.csv')\n",
    "except:\n",
    "    df = pd.read_csv('/datasets/car_data.csv')"
   ]
  },
  {
   "cell_type": "markdown",
   "id": "01dad193-c694-47b8-b5ae-34d59c6cdd53",
   "metadata": {},
   "source": [
    "Let's check out datatypes and nan's using .info()."
   ]
  },
  {
   "cell_type": "code",
   "execution_count": 3,
   "id": "f7c82553-2934-4b1f-b7a3-0b74683e14a0",
   "metadata": {},
   "outputs": [
    {
     "name": "stdout",
     "output_type": "stream",
     "text": [
      "<class 'pandas.core.frame.DataFrame'>\n",
      "RangeIndex: 354369 entries, 0 to 354368\n",
      "Data columns (total 16 columns):\n",
      " #   Column             Non-Null Count   Dtype \n",
      "---  ------             --------------   ----- \n",
      " 0   DateCrawled        354369 non-null  object\n",
      " 1   Price              354369 non-null  int64 \n",
      " 2   VehicleType        316879 non-null  object\n",
      " 3   RegistrationYear   354369 non-null  int64 \n",
      " 4   Gearbox            334536 non-null  object\n",
      " 5   Power              354369 non-null  int64 \n",
      " 6   Model              334664 non-null  object\n",
      " 7   Mileage            354369 non-null  int64 \n",
      " 8   RegistrationMonth  354369 non-null  int64 \n",
      " 9   FuelType           321474 non-null  object\n",
      " 10  Brand              354369 non-null  object\n",
      " 11  NotRepaired        283215 non-null  object\n",
      " 12  DateCreated        354369 non-null  object\n",
      " 13  NumberOfPictures   354369 non-null  int64 \n",
      " 14  PostalCode         354369 non-null  int64 \n",
      " 15  LastSeen           354369 non-null  object\n",
      "dtypes: int64(7), object(9)\n",
      "memory usage: 43.3+ MB\n"
     ]
    }
   ],
   "source": [
    "df.info()"
   ]
  },
  {
   "cell_type": "markdown",
   "id": "799c30ff-7c8a-4f8c-8630-0c7eb4a74a6d",
   "metadata": {},
   "source": [
    "Looks like there are quite a few nans. "
   ]
  },
  {
   "cell_type": "markdown",
   "id": "1bf308f2-9c78-4a15-8d53-c73d0823d2fd",
   "metadata": {},
   "source": [
    "I will standardize column names before moving on to missing values."
   ]
  },
  {
   "cell_type": "code",
   "execution_count": 4,
   "id": "689b88ae-bc9d-44aa-966a-ee8be32b872c",
   "metadata": {},
   "outputs": [],
   "source": [
    "df.columns = ['date_crawled', 'price', 'vehicle_type', 'registration_year', 'gearbox',\n",
    "       'power', 'model', 'mileage', 'registration_month', 'fuel_type', 'brand',\n",
    "       'not_repaired', 'date_created', 'number_of_pictures', 'postal_code',\n",
    "       'last_seen']"
   ]
  },
  {
   "cell_type": "markdown",
   "id": "14b03529-fce6-4465-b4a5-849efd7d9bb2",
   "metadata": {},
   "source": [
    "## Missing values"
   ]
  },
  {
   "cell_type": "code",
   "execution_count": 5,
   "id": "f1f51675-a11b-41f1-b353-076e2bd7ce76",
   "metadata": {},
   "outputs": [
    {
     "data": {
      "text/html": [
       "<div>\n",
       "<style scoped>\n",
       "    .dataframe tbody tr th:only-of-type {\n",
       "        vertical-align: middle;\n",
       "    }\n",
       "\n",
       "    .dataframe tbody tr th {\n",
       "        vertical-align: top;\n",
       "    }\n",
       "\n",
       "    .dataframe thead th {\n",
       "        text-align: right;\n",
       "    }\n",
       "</style>\n",
       "<table border=\"1\" class=\"dataframe\">\n",
       "  <thead>\n",
       "    <tr style=\"text-align: right;\">\n",
       "      <th></th>\n",
       "      <th>date_crawled</th>\n",
       "      <th>price</th>\n",
       "      <th>vehicle_type</th>\n",
       "      <th>registration_year</th>\n",
       "      <th>gearbox</th>\n",
       "      <th>power</th>\n",
       "      <th>model</th>\n",
       "      <th>mileage</th>\n",
       "      <th>registration_month</th>\n",
       "      <th>fuel_type</th>\n",
       "      <th>brand</th>\n",
       "      <th>not_repaired</th>\n",
       "      <th>date_created</th>\n",
       "      <th>number_of_pictures</th>\n",
       "      <th>postal_code</th>\n",
       "      <th>last_seen</th>\n",
       "    </tr>\n",
       "  </thead>\n",
       "  <tbody>\n",
       "    <tr>\n",
       "      <th>count</th>\n",
       "      <td>354369</td>\n",
       "      <td>354369.000000</td>\n",
       "      <td>316879</td>\n",
       "      <td>354369.000000</td>\n",
       "      <td>334536</td>\n",
       "      <td>354369.000000</td>\n",
       "      <td>334664</td>\n",
       "      <td>354369.000000</td>\n",
       "      <td>354369.000000</td>\n",
       "      <td>321474</td>\n",
       "      <td>354369</td>\n",
       "      <td>283215</td>\n",
       "      <td>354369</td>\n",
       "      <td>354369.0</td>\n",
       "      <td>354369.000000</td>\n",
       "      <td>354369</td>\n",
       "    </tr>\n",
       "    <tr>\n",
       "      <th>unique</th>\n",
       "      <td>15470</td>\n",
       "      <td>NaN</td>\n",
       "      <td>8</td>\n",
       "      <td>NaN</td>\n",
       "      <td>2</td>\n",
       "      <td>NaN</td>\n",
       "      <td>250</td>\n",
       "      <td>NaN</td>\n",
       "      <td>NaN</td>\n",
       "      <td>7</td>\n",
       "      <td>40</td>\n",
       "      <td>2</td>\n",
       "      <td>109</td>\n",
       "      <td>NaN</td>\n",
       "      <td>NaN</td>\n",
       "      <td>18592</td>\n",
       "    </tr>\n",
       "    <tr>\n",
       "      <th>top</th>\n",
       "      <td>05/03/2016 14:25</td>\n",
       "      <td>NaN</td>\n",
       "      <td>sedan</td>\n",
       "      <td>NaN</td>\n",
       "      <td>manual</td>\n",
       "      <td>NaN</td>\n",
       "      <td>golf</td>\n",
       "      <td>NaN</td>\n",
       "      <td>NaN</td>\n",
       "      <td>petrol</td>\n",
       "      <td>volkswagen</td>\n",
       "      <td>no</td>\n",
       "      <td>03/04/2016 00:00</td>\n",
       "      <td>NaN</td>\n",
       "      <td>NaN</td>\n",
       "      <td>07/04/2016 07:16</td>\n",
       "    </tr>\n",
       "    <tr>\n",
       "      <th>freq</th>\n",
       "      <td>66</td>\n",
       "      <td>NaN</td>\n",
       "      <td>91457</td>\n",
       "      <td>NaN</td>\n",
       "      <td>268251</td>\n",
       "      <td>NaN</td>\n",
       "      <td>29232</td>\n",
       "      <td>NaN</td>\n",
       "      <td>NaN</td>\n",
       "      <td>216352</td>\n",
       "      <td>77013</td>\n",
       "      <td>247161</td>\n",
       "      <td>13719</td>\n",
       "      <td>NaN</td>\n",
       "      <td>NaN</td>\n",
       "      <td>654</td>\n",
       "    </tr>\n",
       "    <tr>\n",
       "      <th>mean</th>\n",
       "      <td>NaN</td>\n",
       "      <td>4416.656776</td>\n",
       "      <td>NaN</td>\n",
       "      <td>2004.234448</td>\n",
       "      <td>NaN</td>\n",
       "      <td>110.094337</td>\n",
       "      <td>NaN</td>\n",
       "      <td>128211.172535</td>\n",
       "      <td>5.714645</td>\n",
       "      <td>NaN</td>\n",
       "      <td>NaN</td>\n",
       "      <td>NaN</td>\n",
       "      <td>NaN</td>\n",
       "      <td>0.0</td>\n",
       "      <td>50508.689087</td>\n",
       "      <td>NaN</td>\n",
       "    </tr>\n",
       "    <tr>\n",
       "      <th>std</th>\n",
       "      <td>NaN</td>\n",
       "      <td>4514.158514</td>\n",
       "      <td>NaN</td>\n",
       "      <td>90.227958</td>\n",
       "      <td>NaN</td>\n",
       "      <td>189.850405</td>\n",
       "      <td>NaN</td>\n",
       "      <td>37905.341530</td>\n",
       "      <td>3.726421</td>\n",
       "      <td>NaN</td>\n",
       "      <td>NaN</td>\n",
       "      <td>NaN</td>\n",
       "      <td>NaN</td>\n",
       "      <td>0.0</td>\n",
       "      <td>25783.096248</td>\n",
       "      <td>NaN</td>\n",
       "    </tr>\n",
       "    <tr>\n",
       "      <th>min</th>\n",
       "      <td>NaN</td>\n",
       "      <td>0.000000</td>\n",
       "      <td>NaN</td>\n",
       "      <td>1000.000000</td>\n",
       "      <td>NaN</td>\n",
       "      <td>0.000000</td>\n",
       "      <td>NaN</td>\n",
       "      <td>5000.000000</td>\n",
       "      <td>0.000000</td>\n",
       "      <td>NaN</td>\n",
       "      <td>NaN</td>\n",
       "      <td>NaN</td>\n",
       "      <td>NaN</td>\n",
       "      <td>0.0</td>\n",
       "      <td>1067.000000</td>\n",
       "      <td>NaN</td>\n",
       "    </tr>\n",
       "    <tr>\n",
       "      <th>25%</th>\n",
       "      <td>NaN</td>\n",
       "      <td>1050.000000</td>\n",
       "      <td>NaN</td>\n",
       "      <td>1999.000000</td>\n",
       "      <td>NaN</td>\n",
       "      <td>69.000000</td>\n",
       "      <td>NaN</td>\n",
       "      <td>125000.000000</td>\n",
       "      <td>3.000000</td>\n",
       "      <td>NaN</td>\n",
       "      <td>NaN</td>\n",
       "      <td>NaN</td>\n",
       "      <td>NaN</td>\n",
       "      <td>0.0</td>\n",
       "      <td>30165.000000</td>\n",
       "      <td>NaN</td>\n",
       "    </tr>\n",
       "    <tr>\n",
       "      <th>50%</th>\n",
       "      <td>NaN</td>\n",
       "      <td>2700.000000</td>\n",
       "      <td>NaN</td>\n",
       "      <td>2003.000000</td>\n",
       "      <td>NaN</td>\n",
       "      <td>105.000000</td>\n",
       "      <td>NaN</td>\n",
       "      <td>150000.000000</td>\n",
       "      <td>6.000000</td>\n",
       "      <td>NaN</td>\n",
       "      <td>NaN</td>\n",
       "      <td>NaN</td>\n",
       "      <td>NaN</td>\n",
       "      <td>0.0</td>\n",
       "      <td>49413.000000</td>\n",
       "      <td>NaN</td>\n",
       "    </tr>\n",
       "    <tr>\n",
       "      <th>75%</th>\n",
       "      <td>NaN</td>\n",
       "      <td>6400.000000</td>\n",
       "      <td>NaN</td>\n",
       "      <td>2008.000000</td>\n",
       "      <td>NaN</td>\n",
       "      <td>143.000000</td>\n",
       "      <td>NaN</td>\n",
       "      <td>150000.000000</td>\n",
       "      <td>9.000000</td>\n",
       "      <td>NaN</td>\n",
       "      <td>NaN</td>\n",
       "      <td>NaN</td>\n",
       "      <td>NaN</td>\n",
       "      <td>0.0</td>\n",
       "      <td>71083.000000</td>\n",
       "      <td>NaN</td>\n",
       "    </tr>\n",
       "    <tr>\n",
       "      <th>max</th>\n",
       "      <td>NaN</td>\n",
       "      <td>20000.000000</td>\n",
       "      <td>NaN</td>\n",
       "      <td>9999.000000</td>\n",
       "      <td>NaN</td>\n",
       "      <td>20000.000000</td>\n",
       "      <td>NaN</td>\n",
       "      <td>150000.000000</td>\n",
       "      <td>12.000000</td>\n",
       "      <td>NaN</td>\n",
       "      <td>NaN</td>\n",
       "      <td>NaN</td>\n",
       "      <td>NaN</td>\n",
       "      <td>0.0</td>\n",
       "      <td>99998.000000</td>\n",
       "      <td>NaN</td>\n",
       "    </tr>\n",
       "  </tbody>\n",
       "</table>\n",
       "</div>"
      ],
      "text/plain": [
       "            date_crawled          price vehicle_type  registration_year  \\\n",
       "count             354369  354369.000000       316879      354369.000000   \n",
       "unique             15470            NaN            8                NaN   \n",
       "top     05/03/2016 14:25            NaN        sedan                NaN   \n",
       "freq                  66            NaN        91457                NaN   \n",
       "mean                 NaN    4416.656776          NaN        2004.234448   \n",
       "std                  NaN    4514.158514          NaN          90.227958   \n",
       "min                  NaN       0.000000          NaN        1000.000000   \n",
       "25%                  NaN    1050.000000          NaN        1999.000000   \n",
       "50%                  NaN    2700.000000          NaN        2003.000000   \n",
       "75%                  NaN    6400.000000          NaN        2008.000000   \n",
       "max                  NaN   20000.000000          NaN        9999.000000   \n",
       "\n",
       "       gearbox          power   model        mileage  registration_month  \\\n",
       "count   334536  354369.000000  334664  354369.000000       354369.000000   \n",
       "unique       2            NaN     250            NaN                 NaN   \n",
       "top     manual            NaN    golf            NaN                 NaN   \n",
       "freq    268251            NaN   29232            NaN                 NaN   \n",
       "mean       NaN     110.094337     NaN  128211.172535            5.714645   \n",
       "std        NaN     189.850405     NaN   37905.341530            3.726421   \n",
       "min        NaN       0.000000     NaN    5000.000000            0.000000   \n",
       "25%        NaN      69.000000     NaN  125000.000000            3.000000   \n",
       "50%        NaN     105.000000     NaN  150000.000000            6.000000   \n",
       "75%        NaN     143.000000     NaN  150000.000000            9.000000   \n",
       "max        NaN   20000.000000     NaN  150000.000000           12.000000   \n",
       "\n",
       "       fuel_type       brand not_repaired      date_created  \\\n",
       "count     321474      354369       283215            354369   \n",
       "unique         7          40            2               109   \n",
       "top       petrol  volkswagen           no  03/04/2016 00:00   \n",
       "freq      216352       77013       247161             13719   \n",
       "mean         NaN         NaN          NaN               NaN   \n",
       "std          NaN         NaN          NaN               NaN   \n",
       "min          NaN         NaN          NaN               NaN   \n",
       "25%          NaN         NaN          NaN               NaN   \n",
       "50%          NaN         NaN          NaN               NaN   \n",
       "75%          NaN         NaN          NaN               NaN   \n",
       "max          NaN         NaN          NaN               NaN   \n",
       "\n",
       "        number_of_pictures    postal_code         last_seen  \n",
       "count             354369.0  354369.000000            354369  \n",
       "unique                 NaN            NaN             18592  \n",
       "top                    NaN            NaN  07/04/2016 07:16  \n",
       "freq                   NaN            NaN               654  \n",
       "mean                   0.0   50508.689087               NaN  \n",
       "std                    0.0   25783.096248               NaN  \n",
       "min                    0.0    1067.000000               NaN  \n",
       "25%                    0.0   30165.000000               NaN  \n",
       "50%                    0.0   49413.000000               NaN  \n",
       "75%                    0.0   71083.000000               NaN  \n",
       "max                    0.0   99998.000000               NaN  "
      ]
     },
     "execution_count": 5,
     "metadata": {},
     "output_type": "execute_result"
    }
   ],
   "source": [
    "df.describe(include='all')"
   ]
  },
  {
   "cell_type": "markdown",
   "id": "5d51c5bb-d7fb-4940-8d9f-2cb7fc1a355a",
   "metadata": {},
   "source": [
    "Dropping all observations with nans indiscriminately leads to over 100,000 observations being lost. Instead, let's move through each feature with missing values and ideally replace the nans with values that make sense. "
   ]
  },
  {
   "cell_type": "code",
   "execution_count": 6,
   "id": "accff0f7-5df2-4601-a867-26ec93a8758b",
   "metadata": {},
   "outputs": [
    {
     "data": {
      "text/plain": [
       "array([nan, 'coupe', 'suv', 'small', 'sedan', 'convertible', 'bus',\n",
       "       'wagon', 'other'], dtype=object)"
      ]
     },
     "execution_count": 6,
     "metadata": {},
     "output_type": "execute_result"
    }
   ],
   "source": [
    "df.vehicle_type.unique()"
   ]
  },
  {
   "cell_type": "code",
   "execution_count": 7,
   "id": "5b984794-dba8-4ae0-8fe0-d992fea92a03",
   "metadata": {},
   "outputs": [
    {
     "data": {
      "text/plain": [
       "array(['petrol', 'gasoline', nan, 'lpg', 'other', 'hybrid', 'cng',\n",
       "       'electric'], dtype=object)"
      ]
     },
     "execution_count": 7,
     "metadata": {},
     "output_type": "execute_result"
    }
   ],
   "source": [
    "df.fuel_type.unique()"
   ]
  },
  {
   "cell_type": "markdown",
   "id": "b517d806-4e21-44e0-81ac-375255cc197a",
   "metadata": {},
   "source": [
    "Looks like \"other\" is already a value in some of these categories. Let's replace nans in categorical features with \"unknown\"."
   ]
  },
  {
   "cell_type": "code",
   "execution_count": 8,
   "id": "6ccf4b9c-88cc-4fb1-8fde-c3032dfa9406",
   "metadata": {},
   "outputs": [],
   "source": [
    "cat_features = ['vehicle_type', 'gearbox', 'model', 'fuel_type', 'brand', 'not_repaired', 'postal_code']\n",
    "for feat in cat_features:\n",
    "    df[feat] = df[feat].fillna('unknown')\n",
    "    df[feat] = df[feat].astype('category')"
   ]
  },
  {
   "cell_type": "markdown",
   "id": "4f7e1856-97d4-4d3a-bbf1-9be6d306ce54",
   "metadata": {},
   "source": [
    "I want to drop unnecessary features before looking closely into missing values in the numeric columns. None of the dates are important, and would likely cause problems with the algorithm. And, because postal code is actually a categorical column rather than a numerical one, this will also cause problems during encoding and training. These features are not intrinsic to the automobiles. Registration month also seems trivial compared to the significance of the registration year."
   ]
  },
  {
   "cell_type": "code",
   "execution_count": 9,
   "id": "aa210296-b5ec-490b-80ac-91fc4391c025",
   "metadata": {},
   "outputs": [],
   "source": [
    "df = df.drop(['date_crawled', 'registration_month', 'date_created', 'postal_code', 'last_seen'], axis=1)"
   ]
  },
  {
   "cell_type": "code",
   "execution_count": 10,
   "id": "e6f90e17-31b1-46c1-9fd1-133f5dc822b9",
   "metadata": {},
   "outputs": [
    {
     "name": "stdout",
     "output_type": "stream",
     "text": [
      "<class 'pandas.core.frame.DataFrame'>\n",
      "RangeIndex: 354369 entries, 0 to 354368\n",
      "Data columns (total 11 columns):\n",
      " #   Column              Non-Null Count   Dtype   \n",
      "---  ------              --------------   -----   \n",
      " 0   price               354369 non-null  int64   \n",
      " 1   vehicle_type        354369 non-null  category\n",
      " 2   registration_year   354369 non-null  int64   \n",
      " 3   gearbox             354369 non-null  category\n",
      " 4   power               354369 non-null  int64   \n",
      " 5   model               354369 non-null  category\n",
      " 6   mileage             354369 non-null  int64   \n",
      " 7   fuel_type           354369 non-null  category\n",
      " 8   brand               354369 non-null  category\n",
      " 9   not_repaired        354369 non-null  category\n",
      " 10  number_of_pictures  354369 non-null  int64   \n",
      "dtypes: category(6), int64(5)\n",
      "memory usage: 15.9 MB\n"
     ]
    }
   ],
   "source": [
    "df.info()"
   ]
  },
  {
   "cell_type": "markdown",
   "id": "ae407277-8360-4b93-aa43-b27e8032e48e",
   "metadata": {},
   "source": [
    "The df has been trimmed down and nans filled in. Now I want to look more closely at the numeric features to make sure the values make sense. I will focus more on removing rows with flawed numerical data than I did on removing rows with missing categorical data. The effect of \"unknowns\" on the machine learning outcomes should be smaller than the effect of very incorrect numbers. I hope to scale the numeric data, and extreme/arbitrary outliers would affect this."
   ]
  },
  {
   "cell_type": "code",
   "execution_count": 11,
   "id": "e23356d8-fd70-4d73-9e45-1ea6cf0951ff",
   "metadata": {},
   "outputs": [
    {
     "data": {
      "text/html": [
       "<div>\n",
       "<style scoped>\n",
       "    .dataframe tbody tr th:only-of-type {\n",
       "        vertical-align: middle;\n",
       "    }\n",
       "\n",
       "    .dataframe tbody tr th {\n",
       "        vertical-align: top;\n",
       "    }\n",
       "\n",
       "    .dataframe thead th {\n",
       "        text-align: right;\n",
       "    }\n",
       "</style>\n",
       "<table border=\"1\" class=\"dataframe\">\n",
       "  <thead>\n",
       "    <tr style=\"text-align: right;\">\n",
       "      <th></th>\n",
       "      <th>price</th>\n",
       "      <th>registration_year</th>\n",
       "      <th>power</th>\n",
       "      <th>mileage</th>\n",
       "      <th>number_of_pictures</th>\n",
       "    </tr>\n",
       "  </thead>\n",
       "  <tbody>\n",
       "    <tr>\n",
       "      <th>count</th>\n",
       "      <td>354369.000000</td>\n",
       "      <td>354369.000000</td>\n",
       "      <td>354369.000000</td>\n",
       "      <td>354369.000000</td>\n",
       "      <td>354369.0</td>\n",
       "    </tr>\n",
       "    <tr>\n",
       "      <th>mean</th>\n",
       "      <td>4416.656776</td>\n",
       "      <td>2004.234448</td>\n",
       "      <td>110.094337</td>\n",
       "      <td>128211.172535</td>\n",
       "      <td>0.0</td>\n",
       "    </tr>\n",
       "    <tr>\n",
       "      <th>std</th>\n",
       "      <td>4514.158514</td>\n",
       "      <td>90.227958</td>\n",
       "      <td>189.850405</td>\n",
       "      <td>37905.341530</td>\n",
       "      <td>0.0</td>\n",
       "    </tr>\n",
       "    <tr>\n",
       "      <th>min</th>\n",
       "      <td>0.000000</td>\n",
       "      <td>1000.000000</td>\n",
       "      <td>0.000000</td>\n",
       "      <td>5000.000000</td>\n",
       "      <td>0.0</td>\n",
       "    </tr>\n",
       "    <tr>\n",
       "      <th>25%</th>\n",
       "      <td>1050.000000</td>\n",
       "      <td>1999.000000</td>\n",
       "      <td>69.000000</td>\n",
       "      <td>125000.000000</td>\n",
       "      <td>0.0</td>\n",
       "    </tr>\n",
       "    <tr>\n",
       "      <th>50%</th>\n",
       "      <td>2700.000000</td>\n",
       "      <td>2003.000000</td>\n",
       "      <td>105.000000</td>\n",
       "      <td>150000.000000</td>\n",
       "      <td>0.0</td>\n",
       "    </tr>\n",
       "    <tr>\n",
       "      <th>75%</th>\n",
       "      <td>6400.000000</td>\n",
       "      <td>2008.000000</td>\n",
       "      <td>143.000000</td>\n",
       "      <td>150000.000000</td>\n",
       "      <td>0.0</td>\n",
       "    </tr>\n",
       "    <tr>\n",
       "      <th>max</th>\n",
       "      <td>20000.000000</td>\n",
       "      <td>9999.000000</td>\n",
       "      <td>20000.000000</td>\n",
       "      <td>150000.000000</td>\n",
       "      <td>0.0</td>\n",
       "    </tr>\n",
       "  </tbody>\n",
       "</table>\n",
       "</div>"
      ],
      "text/plain": [
       "               price  registration_year          power        mileage  \\\n",
       "count  354369.000000      354369.000000  354369.000000  354369.000000   \n",
       "mean     4416.656776        2004.234448     110.094337  128211.172535   \n",
       "std      4514.158514          90.227958     189.850405   37905.341530   \n",
       "min         0.000000        1000.000000       0.000000    5000.000000   \n",
       "25%      1050.000000        1999.000000      69.000000  125000.000000   \n",
       "50%      2700.000000        2003.000000     105.000000  150000.000000   \n",
       "75%      6400.000000        2008.000000     143.000000  150000.000000   \n",
       "max     20000.000000        9999.000000   20000.000000  150000.000000   \n",
       "\n",
       "       number_of_pictures  \n",
       "count            354369.0  \n",
       "mean                  0.0  \n",
       "std                   0.0  \n",
       "min                   0.0  \n",
       "25%                   0.0  \n",
       "50%                   0.0  \n",
       "75%                   0.0  \n",
       "max                   0.0  "
      ]
     },
     "execution_count": 11,
     "metadata": {},
     "output_type": "execute_result"
    }
   ],
   "source": [
    "df.describe()"
   ]
  },
  {
   "cell_type": "markdown",
   "id": "87cf976e-5b00-41f8-a7fe-bf8bf4ae6c20",
   "metadata": {},
   "source": [
    "Price, which will be the target, has some 0 values, which is technically possible but seems unlikely.\n",
    "\n",
    "Registration_year has values at 1000 and 9999, both of which are unreasonable. I want to explore for more values like this.\n",
    "\n",
    "Power has values at 0 and 20,000, both of which are unreasonable.\n",
    "\n",
    "Mileage has over half of the values as 150,000, which seems to represent the ceiling for what the mileage is allowed to be. I will not tweak this column.\n",
    "\n",
    "The feature number_of_pictures looks to be useless, as every value is 0. I will just drop this column."
   ]
  },
  {
   "cell_type": "code",
   "execution_count": 12,
   "id": "306782a2-0902-4aa2-bfa5-a7caef9f0c13",
   "metadata": {},
   "outputs": [],
   "source": [
    "df = df.drop('number_of_pictures', axis=1)"
   ]
  },
  {
   "cell_type": "markdown",
   "id": "95ad969b-aeb6-4ffd-8feb-be6d3b9006d7",
   "metadata": {},
   "source": [
    "I want to check out some of the rows where the price is 0."
   ]
  },
  {
   "cell_type": "code",
   "execution_count": 13,
   "id": "9dfe283e-745f-46af-8085-6d32cb978f49",
   "metadata": {},
   "outputs": [
    {
     "name": "stdout",
     "output_type": "stream",
     "text": [
      "10772\n"
     ]
    },
    {
     "data": {
      "text/html": [
       "<div>\n",
       "<style scoped>\n",
       "    .dataframe tbody tr th:only-of-type {\n",
       "        vertical-align: middle;\n",
       "    }\n",
       "\n",
       "    .dataframe tbody tr th {\n",
       "        vertical-align: top;\n",
       "    }\n",
       "\n",
       "    .dataframe thead th {\n",
       "        text-align: right;\n",
       "    }\n",
       "</style>\n",
       "<table border=\"1\" class=\"dataframe\">\n",
       "  <thead>\n",
       "    <tr style=\"text-align: right;\">\n",
       "      <th></th>\n",
       "      <th>price</th>\n",
       "      <th>vehicle_type</th>\n",
       "      <th>registration_year</th>\n",
       "      <th>gearbox</th>\n",
       "      <th>power</th>\n",
       "      <th>model</th>\n",
       "      <th>mileage</th>\n",
       "      <th>fuel_type</th>\n",
       "      <th>brand</th>\n",
       "      <th>not_repaired</th>\n",
       "    </tr>\n",
       "  </thead>\n",
       "  <tbody>\n",
       "    <tr>\n",
       "      <th>33139</th>\n",
       "      <td>0</td>\n",
       "      <td>unknown</td>\n",
       "      <td>1990</td>\n",
       "      <td>unknown</td>\n",
       "      <td>0</td>\n",
       "      <td>corsa</td>\n",
       "      <td>150000</td>\n",
       "      <td>unknown</td>\n",
       "      <td>opel</td>\n",
       "      <td>unknown</td>\n",
       "    </tr>\n",
       "    <tr>\n",
       "      <th>37386</th>\n",
       "      <td>0</td>\n",
       "      <td>small</td>\n",
       "      <td>1997</td>\n",
       "      <td>manual</td>\n",
       "      <td>60</td>\n",
       "      <td>ka</td>\n",
       "      <td>150000</td>\n",
       "      <td>petrol</td>\n",
       "      <td>ford</td>\n",
       "      <td>unknown</td>\n",
       "    </tr>\n",
       "    <tr>\n",
       "      <th>183676</th>\n",
       "      <td>0</td>\n",
       "      <td>small</td>\n",
       "      <td>2002</td>\n",
       "      <td>auto</td>\n",
       "      <td>0</td>\n",
       "      <td>fortwo</td>\n",
       "      <td>150000</td>\n",
       "      <td>gasoline</td>\n",
       "      <td>smart</td>\n",
       "      <td>no</td>\n",
       "    </tr>\n",
       "    <tr>\n",
       "      <th>191182</th>\n",
       "      <td>0</td>\n",
       "      <td>small</td>\n",
       "      <td>2001</td>\n",
       "      <td>manual</td>\n",
       "      <td>55</td>\n",
       "      <td>seicento</td>\n",
       "      <td>90000</td>\n",
       "      <td>petrol</td>\n",
       "      <td>fiat</td>\n",
       "      <td>yes</td>\n",
       "    </tr>\n",
       "    <tr>\n",
       "      <th>156065</th>\n",
       "      <td>0</td>\n",
       "      <td>unknown</td>\n",
       "      <td>2016</td>\n",
       "      <td>manual</td>\n",
       "      <td>60</td>\n",
       "      <td>punto</td>\n",
       "      <td>150000</td>\n",
       "      <td>unknown</td>\n",
       "      <td>fiat</td>\n",
       "      <td>no</td>\n",
       "    </tr>\n",
       "    <tr>\n",
       "      <th>47795</th>\n",
       "      <td>0</td>\n",
       "      <td>small</td>\n",
       "      <td>1996</td>\n",
       "      <td>manual</td>\n",
       "      <td>0</td>\n",
       "      <td>golf</td>\n",
       "      <td>150000</td>\n",
       "      <td>petrol</td>\n",
       "      <td>volkswagen</td>\n",
       "      <td>unknown</td>\n",
       "    </tr>\n",
       "    <tr>\n",
       "      <th>312852</th>\n",
       "      <td>0</td>\n",
       "      <td>sedan</td>\n",
       "      <td>1999</td>\n",
       "      <td>auto</td>\n",
       "      <td>193</td>\n",
       "      <td>a4</td>\n",
       "      <td>150000</td>\n",
       "      <td>petrol</td>\n",
       "      <td>audi</td>\n",
       "      <td>yes</td>\n",
       "    </tr>\n",
       "    <tr>\n",
       "      <th>175419</th>\n",
       "      <td>0</td>\n",
       "      <td>unknown</td>\n",
       "      <td>1990</td>\n",
       "      <td>unknown</td>\n",
       "      <td>0</td>\n",
       "      <td>unknown</td>\n",
       "      <td>150000</td>\n",
       "      <td>unknown</td>\n",
       "      <td>sonstige_autos</td>\n",
       "      <td>unknown</td>\n",
       "    </tr>\n",
       "    <tr>\n",
       "      <th>304637</th>\n",
       "      <td>0</td>\n",
       "      <td>sedan</td>\n",
       "      <td>1998</td>\n",
       "      <td>auto</td>\n",
       "      <td>0</td>\n",
       "      <td>5er</td>\n",
       "      <td>150000</td>\n",
       "      <td>petrol</td>\n",
       "      <td>bmw</td>\n",
       "      <td>unknown</td>\n",
       "    </tr>\n",
       "    <tr>\n",
       "      <th>214842</th>\n",
       "      <td>0</td>\n",
       "      <td>sedan</td>\n",
       "      <td>1997</td>\n",
       "      <td>manual</td>\n",
       "      <td>75</td>\n",
       "      <td>golf</td>\n",
       "      <td>150000</td>\n",
       "      <td>petrol</td>\n",
       "      <td>volkswagen</td>\n",
       "      <td>no</td>\n",
       "    </tr>\n",
       "  </tbody>\n",
       "</table>\n",
       "</div>"
      ],
      "text/plain": [
       "        price vehicle_type  registration_year  gearbox  power     model  \\\n",
       "33139       0      unknown               1990  unknown      0     corsa   \n",
       "37386       0        small               1997   manual     60        ka   \n",
       "183676      0        small               2002     auto      0    fortwo   \n",
       "191182      0        small               2001   manual     55  seicento   \n",
       "156065      0      unknown               2016   manual     60     punto   \n",
       "47795       0        small               1996   manual      0      golf   \n",
       "312852      0        sedan               1999     auto    193        a4   \n",
       "175419      0      unknown               1990  unknown      0   unknown   \n",
       "304637      0        sedan               1998     auto      0       5er   \n",
       "214842      0        sedan               1997   manual     75      golf   \n",
       "\n",
       "        mileage fuel_type           brand not_repaired  \n",
       "33139    150000   unknown            opel      unknown  \n",
       "37386    150000    petrol            ford      unknown  \n",
       "183676   150000  gasoline           smart           no  \n",
       "191182    90000    petrol            fiat          yes  \n",
       "156065   150000   unknown            fiat           no  \n",
       "47795    150000    petrol      volkswagen      unknown  \n",
       "312852   150000    petrol            audi          yes  \n",
       "175419   150000   unknown  sonstige_autos      unknown  \n",
       "304637   150000    petrol             bmw      unknown  \n",
       "214842   150000    petrol      volkswagen           no  "
      ]
     },
     "execution_count": 13,
     "metadata": {},
     "output_type": "execute_result"
    }
   ],
   "source": [
    "print(df[df.price == 0].count()[0])\n",
    "df[df.price == 0].sample(10, random_state=0)"
   ]
  },
  {
   "cell_type": "markdown",
   "id": "d4c44579-fd72-4971-803b-28a0a423a976",
   "metadata": {},
   "source": [
    "It seems like a lot of the ~11,000 observations with a price of 0 have other unknowns as well. It seems like most of this sample has high mileage (>150,000) and/or were registered in the 1900's. It could be reasonable that these automobiles were sold for free. I will keep these in."
   ]
  },
  {
   "cell_type": "code",
   "execution_count": 14,
   "id": "575336ae-7664-4d92-90a8-16666c387992",
   "metadata": {},
   "outputs": [
    {
     "name": "stdout",
     "output_type": "stream",
     "text": [
      "(354369, 10)\n"
     ]
    },
    {
     "data": {
      "text/plain": [
       "(343597, 10)"
      ]
     },
     "execution_count": 14,
     "metadata": {},
     "output_type": "execute_result"
    }
   ],
   "source": [
    "print(df.shape)\n",
    "df = df.drop(df.loc[df.price==0].index)\n",
    "df.shape"
   ]
  },
  {
   "cell_type": "markdown",
   "id": "190704d4-bfec-4ff8-9473-2157703e3d65",
   "metadata": {},
   "source": [
    "Next I want to drop rows containing unreasonable values in registration_year. First I want to examine a histogram, zoomed in on the range of years that could be plausable for used cars."
   ]
  },
  {
   "cell_type": "code",
   "execution_count": 15,
   "id": "f083498b-e9d6-46f4-b713-92022df64f6f",
   "metadata": {},
   "outputs": [
    {
     "data": {
      "text/plain": [
       "Text(0.5, 1.0, 'Distribution of registration years')"
      ]
     },
     "execution_count": 15,
     "metadata": {},
     "output_type": "execute_result"
    },
    {
     "data": {
      "image/png": "[encoded data removed]",
      "text/plain": [
       "<Figure size 432x288 with 1 Axes>"
      ]
     },
     "metadata": {
      "needs_background": "light"
     },
     "output_type": "display_data"
    }
   ],
   "source": [
    "df.registration_year.loc[(df.registration_year > 1900) & (df.registration_year < 2023)].hist()\n",
    "plt.title(\"Distribution of registration years\")"
   ]
  },
  {
   "cell_type": "markdown",
   "id": "ed5a40b8-7a8d-4f82-a13a-0824c050af56",
   "metadata": {},
   "source": [
    "Registration year values end at 2019, and peter off around 1950/1960. I will remove any values before 1950 and after 2019."
   ]
  },
  {
   "cell_type": "code",
   "execution_count": 16,
   "id": "40af40e1-6c66-43bd-80da-d82c14531d97",
   "metadata": {},
   "outputs": [
    {
     "name": "stdout",
     "output_type": "stream",
     "text": [
      "(343597, 10)\n",
      "(343332, 10)\n"
     ]
    }
   ],
   "source": [
    "print(df.shape)\n",
    "drops = df.loc[(df.registration_year < 1950) | (df.registration_year > 2019)].index\n",
    "df = df.drop(drops)\n",
    "print(df.shape)"
   ]
  },
  {
   "cell_type": "markdown",
   "id": "b52b4f66-4b24-44f6-8dd8-ef8724486a89",
   "metadata": {},
   "source": [
    "I will follow the same process for horsepower. Quick research shows that top-of-the-line cars in 2022 had ~2,000hp. And 0hp seems very unlikely for an automobile."
   ]
  },
  {
   "cell_type": "code",
   "execution_count": 17,
   "id": "db32198a-761c-4e1f-b869-a4440a1b3b07",
   "metadata": {},
   "outputs": [
    {
     "data": {
      "text/plain": [
       "Text(0.5, 1.0, 'Distribution of horsepower')"
      ]
     },
     "execution_count": 17,
     "metadata": {},
     "output_type": "execute_result"
    },
    {
     "data": {
      "image/png": "[encoded data removed]",
      "text/plain": [
       "<Figure size 432x288 with 1 Axes>"
      ]
     },
     "metadata": {
      "needs_background": "light"
     },
     "output_type": "display_data"
    }
   ],
   "source": [
    "df.power[df.power < 1000].hist(bins=30)\n",
    "plt.title(\"Distribution of horsepower\")"
   ]
  },
  {
   "cell_type": "code",
   "execution_count": 18,
   "id": "c367477b-8ebe-4c76-9fce-174e83498c80",
   "metadata": {
    "tags": []
   },
   "outputs": [
    {
     "data": {
      "text/html": [
       "<div>\n",
       "<style scoped>\n",
       "    .dataframe tbody tr th:only-of-type {\n",
       "        vertical-align: middle;\n",
       "    }\n",
       "\n",
       "    .dataframe tbody tr th {\n",
       "        vertical-align: top;\n",
       "    }\n",
       "\n",
       "    .dataframe thead th {\n",
       "        text-align: right;\n",
       "    }\n",
       "</style>\n",
       "<table border=\"1\" class=\"dataframe\">\n",
       "  <thead>\n",
       "    <tr style=\"text-align: right;\">\n",
       "      <th></th>\n",
       "      <th>price</th>\n",
       "      <th>vehicle_type</th>\n",
       "      <th>registration_year</th>\n",
       "      <th>gearbox</th>\n",
       "      <th>power</th>\n",
       "      <th>model</th>\n",
       "      <th>mileage</th>\n",
       "      <th>fuel_type</th>\n",
       "      <th>brand</th>\n",
       "      <th>not_repaired</th>\n",
       "    </tr>\n",
       "  </thead>\n",
       "  <tbody>\n",
       "    <tr>\n",
       "      <th>1816</th>\n",
       "      <td>3200</td>\n",
       "      <td>small</td>\n",
       "      <td>2004</td>\n",
       "      <td>manual</td>\n",
       "      <td>1398</td>\n",
       "      <td>corolla</td>\n",
       "      <td>5000</td>\n",
       "      <td>petrol</td>\n",
       "      <td>toyota</td>\n",
       "      <td>no</td>\n",
       "    </tr>\n",
       "    <tr>\n",
       "      <th>4060</th>\n",
       "      <td>3100</td>\n",
       "      <td>sedan</td>\n",
       "      <td>2005</td>\n",
       "      <td>manual</td>\n",
       "      <td>953</td>\n",
       "      <td>colt</td>\n",
       "      <td>150000</td>\n",
       "      <td>gasoline</td>\n",
       "      <td>mitsubishi</td>\n",
       "      <td>no</td>\n",
       "    </tr>\n",
       "    <tr>\n",
       "      <th>5328</th>\n",
       "      <td>500</td>\n",
       "      <td>wagon</td>\n",
       "      <td>1999</td>\n",
       "      <td>manual</td>\n",
       "      <td>1001</td>\n",
       "      <td>astra</td>\n",
       "      <td>150000</td>\n",
       "      <td>petrol</td>\n",
       "      <td>opel</td>\n",
       "      <td>unknown</td>\n",
       "    </tr>\n",
       "    <tr>\n",
       "      <th>6296</th>\n",
       "      <td>599</td>\n",
       "      <td>small</td>\n",
       "      <td>2002</td>\n",
       "      <td>manual</td>\n",
       "      <td>603</td>\n",
       "      <td>matiz</td>\n",
       "      <td>5000</td>\n",
       "      <td>petrol</td>\n",
       "      <td>chevrolet</td>\n",
       "      <td>yes</td>\n",
       "    </tr>\n",
       "    <tr>\n",
       "      <th>6504</th>\n",
       "      <td>3000</td>\n",
       "      <td>small</td>\n",
       "      <td>2009</td>\n",
       "      <td>manual</td>\n",
       "      <td>771</td>\n",
       "      <td>punto</td>\n",
       "      <td>125000</td>\n",
       "      <td>petrol</td>\n",
       "      <td>fiat</td>\n",
       "      <td>unknown</td>\n",
       "    </tr>\n",
       "    <tr>\n",
       "      <th>...</th>\n",
       "      <td>...</td>\n",
       "      <td>...</td>\n",
       "      <td>...</td>\n",
       "      <td>...</td>\n",
       "      <td>...</td>\n",
       "      <td>...</td>\n",
       "      <td>...</td>\n",
       "      <td>...</td>\n",
       "      <td>...</td>\n",
       "      <td>...</td>\n",
       "    </tr>\n",
       "    <tr>\n",
       "      <th>348968</th>\n",
       "      <td>250</td>\n",
       "      <td>small</td>\n",
       "      <td>1999</td>\n",
       "      <td>manual</td>\n",
       "      <td>1241</td>\n",
       "      <td>ypsilon</td>\n",
       "      <td>150000</td>\n",
       "      <td>petrol</td>\n",
       "      <td>lancia</td>\n",
       "      <td>yes</td>\n",
       "    </tr>\n",
       "    <tr>\n",
       "      <th>351947</th>\n",
       "      <td>1500</td>\n",
       "      <td>bus</td>\n",
       "      <td>2001</td>\n",
       "      <td>manual</td>\n",
       "      <td>1001</td>\n",
       "      <td>zafira</td>\n",
       "      <td>5000</td>\n",
       "      <td>gasoline</td>\n",
       "      <td>opel</td>\n",
       "      <td>no</td>\n",
       "    </tr>\n",
       "    <tr>\n",
       "      <th>353493</th>\n",
       "      <td>12500</td>\n",
       "      <td>unknown</td>\n",
       "      <td>2017</td>\n",
       "      <td>manual</td>\n",
       "      <td>2000</td>\n",
       "      <td>other</td>\n",
       "      <td>60000</td>\n",
       "      <td>gasoline</td>\n",
       "      <td>chrysler</td>\n",
       "      <td>no</td>\n",
       "    </tr>\n",
       "    <tr>\n",
       "      <th>353633</th>\n",
       "      <td>2400</td>\n",
       "      <td>sedan</td>\n",
       "      <td>2007</td>\n",
       "      <td>manual</td>\n",
       "      <td>650</td>\n",
       "      <td>c2</td>\n",
       "      <td>150000</td>\n",
       "      <td>petrol</td>\n",
       "      <td>citroen</td>\n",
       "      <td>unknown</td>\n",
       "    </tr>\n",
       "    <tr>\n",
       "      <th>354260</th>\n",
       "      <td>399</td>\n",
       "      <td>other</td>\n",
       "      <td>1994</td>\n",
       "      <td>unknown</td>\n",
       "      <td>1103</td>\n",
       "      <td>3er</td>\n",
       "      <td>150000</td>\n",
       "      <td>unknown</td>\n",
       "      <td>bmw</td>\n",
       "      <td>unknown</td>\n",
       "    </tr>\n",
       "  </tbody>\n",
       "</table>\n",
       "<p>418 rows × 10 columns</p>\n",
       "</div>"
      ],
      "text/plain": [
       "        price vehicle_type  registration_year  gearbox  power    model  \\\n",
       "1816     3200        small               2004   manual   1398  corolla   \n",
       "4060     3100        sedan               2005   manual    953     colt   \n",
       "5328      500        wagon               1999   manual   1001    astra   \n",
       "6296      599        small               2002   manual    603    matiz   \n",
       "6504     3000        small               2009   manual    771    punto   \n",
       "...       ...          ...                ...      ...    ...      ...   \n",
       "348968    250        small               1999   manual   1241  ypsilon   \n",
       "351947   1500          bus               2001   manual   1001   zafira   \n",
       "353493  12500      unknown               2017   manual   2000    other   \n",
       "353633   2400        sedan               2007   manual    650       c2   \n",
       "354260    399        other               1994  unknown   1103      3er   \n",
       "\n",
       "        mileage fuel_type       brand not_repaired  \n",
       "1816       5000    petrol      toyota           no  \n",
       "4060     150000  gasoline  mitsubishi           no  \n",
       "5328     150000    petrol        opel      unknown  \n",
       "6296       5000    petrol   chevrolet          yes  \n",
       "6504     125000    petrol        fiat      unknown  \n",
       "...         ...       ...         ...          ...  \n",
       "348968   150000    petrol      lancia          yes  \n",
       "351947     5000  gasoline        opel           no  \n",
       "353493    60000  gasoline    chrysler           no  \n",
       "353633   150000    petrol     citroen      unknown  \n",
       "354260   150000   unknown         bmw      unknown  \n",
       "\n",
       "[418 rows x 10 columns]"
      ]
     },
     "execution_count": 18,
     "metadata": {},
     "output_type": "execute_result"
    }
   ],
   "source": [
    "df.loc[df.power >500]"
   ]
  },
  {
   "cell_type": "markdown",
   "id": "60e3ed17-cc80-4699-8aa9-35f66d6c52f0",
   "metadata": {},
   "source": [
    "Checking out rows where power is 0."
   ]
  },
  {
   "cell_type": "code",
   "execution_count": 19,
   "id": "569b9664-ba83-407e-94a1-7d5e8fa274d3",
   "metadata": {},
   "outputs": [
    {
     "data": {
      "text/html": [
       "<div>\n",
       "<style scoped>\n",
       "    .dataframe tbody tr th:only-of-type {\n",
       "        vertical-align: middle;\n",
       "    }\n",
       "\n",
       "    .dataframe tbody tr th {\n",
       "        vertical-align: top;\n",
       "    }\n",
       "\n",
       "    .dataframe thead th {\n",
       "        text-align: right;\n",
       "    }\n",
       "</style>\n",
       "<table border=\"1\" class=\"dataframe\">\n",
       "  <thead>\n",
       "    <tr style=\"text-align: right;\">\n",
       "      <th></th>\n",
       "      <th>price</th>\n",
       "      <th>vehicle_type</th>\n",
       "      <th>registration_year</th>\n",
       "      <th>gearbox</th>\n",
       "      <th>power</th>\n",
       "      <th>model</th>\n",
       "      <th>mileage</th>\n",
       "      <th>fuel_type</th>\n",
       "      <th>brand</th>\n",
       "      <th>not_repaired</th>\n",
       "    </tr>\n",
       "  </thead>\n",
       "  <tbody>\n",
       "    <tr>\n",
       "      <th>0</th>\n",
       "      <td>480</td>\n",
       "      <td>unknown</td>\n",
       "      <td>1993</td>\n",
       "      <td>manual</td>\n",
       "      <td>0</td>\n",
       "      <td>golf</td>\n",
       "      <td>150000</td>\n",
       "      <td>petrol</td>\n",
       "      <td>volkswagen</td>\n",
       "      <td>unknown</td>\n",
       "    </tr>\n",
       "    <tr>\n",
       "      <th>32</th>\n",
       "      <td>245</td>\n",
       "      <td>sedan</td>\n",
       "      <td>1994</td>\n",
       "      <td>unknown</td>\n",
       "      <td>0</td>\n",
       "      <td>golf</td>\n",
       "      <td>150000</td>\n",
       "      <td>petrol</td>\n",
       "      <td>volkswagen</td>\n",
       "      <td>no</td>\n",
       "    </tr>\n",
       "    <tr>\n",
       "      <th>37</th>\n",
       "      <td>1500</td>\n",
       "      <td>unknown</td>\n",
       "      <td>2016</td>\n",
       "      <td>unknown</td>\n",
       "      <td>0</td>\n",
       "      <td>kangoo</td>\n",
       "      <td>150000</td>\n",
       "      <td>gasoline</td>\n",
       "      <td>renault</td>\n",
       "      <td>no</td>\n",
       "    </tr>\n",
       "    <tr>\n",
       "      <th>54</th>\n",
       "      <td>4700</td>\n",
       "      <td>wagon</td>\n",
       "      <td>2005</td>\n",
       "      <td>manual</td>\n",
       "      <td>0</td>\n",
       "      <td>signum</td>\n",
       "      <td>150000</td>\n",
       "      <td>unknown</td>\n",
       "      <td>opel</td>\n",
       "      <td>no</td>\n",
       "    </tr>\n",
       "    <tr>\n",
       "      <th>55</th>\n",
       "      <td>550</td>\n",
       "      <td>wagon</td>\n",
       "      <td>1999</td>\n",
       "      <td>manual</td>\n",
       "      <td>0</td>\n",
       "      <td>astra</td>\n",
       "      <td>150000</td>\n",
       "      <td>gasoline</td>\n",
       "      <td>opel</td>\n",
       "      <td>yes</td>\n",
       "    </tr>\n",
       "    <tr>\n",
       "      <th>...</th>\n",
       "      <td>...</td>\n",
       "      <td>...</td>\n",
       "      <td>...</td>\n",
       "      <td>...</td>\n",
       "      <td>...</td>\n",
       "      <td>...</td>\n",
       "      <td>...</td>\n",
       "      <td>...</td>\n",
       "      <td>...</td>\n",
       "      <td>...</td>\n",
       "    </tr>\n",
       "    <tr>\n",
       "      <th>354336</th>\n",
       "      <td>3299</td>\n",
       "      <td>unknown</td>\n",
       "      <td>2005</td>\n",
       "      <td>auto</td>\n",
       "      <td>0</td>\n",
       "      <td>outlander</td>\n",
       "      <td>150000</td>\n",
       "      <td>petrol</td>\n",
       "      <td>mitsubishi</td>\n",
       "      <td>unknown</td>\n",
       "    </tr>\n",
       "    <tr>\n",
       "      <th>354338</th>\n",
       "      <td>180</td>\n",
       "      <td>unknown</td>\n",
       "      <td>1995</td>\n",
       "      <td>unknown</td>\n",
       "      <td>0</td>\n",
       "      <td>unknown</td>\n",
       "      <td>125000</td>\n",
       "      <td>petrol</td>\n",
       "      <td>opel</td>\n",
       "      <td>unknown</td>\n",
       "    </tr>\n",
       "    <tr>\n",
       "      <th>354346</th>\n",
       "      <td>2600</td>\n",
       "      <td>unknown</td>\n",
       "      <td>2005</td>\n",
       "      <td>auto</td>\n",
       "      <td>0</td>\n",
       "      <td>c_klasse</td>\n",
       "      <td>150000</td>\n",
       "      <td>unknown</td>\n",
       "      <td>mercedes_benz</td>\n",
       "      <td>unknown</td>\n",
       "    </tr>\n",
       "    <tr>\n",
       "      <th>354363</th>\n",
       "      <td>1150</td>\n",
       "      <td>bus</td>\n",
       "      <td>2000</td>\n",
       "      <td>manual</td>\n",
       "      <td>0</td>\n",
       "      <td>zafira</td>\n",
       "      <td>150000</td>\n",
       "      <td>petrol</td>\n",
       "      <td>opel</td>\n",
       "      <td>no</td>\n",
       "    </tr>\n",
       "    <tr>\n",
       "      <th>354365</th>\n",
       "      <td>2200</td>\n",
       "      <td>unknown</td>\n",
       "      <td>2005</td>\n",
       "      <td>unknown</td>\n",
       "      <td>0</td>\n",
       "      <td>unknown</td>\n",
       "      <td>20000</td>\n",
       "      <td>unknown</td>\n",
       "      <td>sonstige_autos</td>\n",
       "      <td>unknown</td>\n",
       "    </tr>\n",
       "  </tbody>\n",
       "</table>\n",
       "<p>36180 rows × 10 columns</p>\n",
       "</div>"
      ],
      "text/plain": [
       "        price vehicle_type  registration_year  gearbox  power      model  \\\n",
       "0         480      unknown               1993   manual      0       golf   \n",
       "32        245        sedan               1994  unknown      0       golf   \n",
       "37       1500      unknown               2016  unknown      0     kangoo   \n",
       "54       4700        wagon               2005   manual      0     signum   \n",
       "55        550        wagon               1999   manual      0      astra   \n",
       "...       ...          ...                ...      ...    ...        ...   \n",
       "354336   3299      unknown               2005     auto      0  outlander   \n",
       "354338    180      unknown               1995  unknown      0    unknown   \n",
       "354346   2600      unknown               2005     auto      0   c_klasse   \n",
       "354363   1150          bus               2000   manual      0     zafira   \n",
       "354365   2200      unknown               2005  unknown      0    unknown   \n",
       "\n",
       "        mileage fuel_type           brand not_repaired  \n",
       "0        150000    petrol      volkswagen      unknown  \n",
       "32       150000    petrol      volkswagen           no  \n",
       "37       150000  gasoline         renault           no  \n",
       "54       150000   unknown            opel           no  \n",
       "55       150000  gasoline            opel          yes  \n",
       "...         ...       ...             ...          ...  \n",
       "354336   150000    petrol      mitsubishi      unknown  \n",
       "354338   125000    petrol            opel      unknown  \n",
       "354346   150000   unknown   mercedes_benz      unknown  \n",
       "354363   150000    petrol            opel           no  \n",
       "354365    20000   unknown  sonstige_autos      unknown  \n",
       "\n",
       "[36180 rows x 10 columns]"
      ]
     },
     "execution_count": 19,
     "metadata": {},
     "output_type": "execute_result"
    }
   ],
   "source": [
    "df.loc[df.power==0]"
   ]
  },
  {
   "cell_type": "markdown",
   "id": "11a22551-7a07-4ade-936c-561ed1599116",
   "metadata": {},
   "source": [
    "Google searching some of these results reveals that both these high and low power values are not correct. I would rather not use data that is flagrantly wrong  to train my models, so I will at least remove rows where horsepower is over 500. There are likely rows where power is under 500 and power is still incorrect, but I would rather be conservative. I will also remove rows where power is 0, because I observe a lot of unknowns when looking at a sample of these rows. Removing these rows should help to clear up the data."
   ]
  },
  {
   "cell_type": "code",
   "execution_count": 20,
   "id": "12bb04d1-44b9-40f6-bad1-5482d4d56559",
   "metadata": {},
   "outputs": [
    {
     "name": "stdout",
     "output_type": "stream",
     "text": [
      "(343332, 10)\n"
     ]
    },
    {
     "data": {
      "text/plain": [
       "(306734, 10)"
      ]
     },
     "execution_count": 20,
     "metadata": {},
     "output_type": "execute_result"
    }
   ],
   "source": [
    "print(df.shape)\n",
    "df = df.drop(df[(df.power>500) | (df.power==0)].index)\n",
    "df.shape"
   ]
  },
  {
   "cell_type": "markdown",
   "id": "30902e45-2a9e-4c1a-8672-40d6753e1192",
   "metadata": {
    "tags": []
   },
   "source": [
    "# Create models"
   ]
  },
  {
   "cell_type": "markdown",
   "id": "cab588ff-e6a8-4db8-a3b6-de33ab932e0a",
   "metadata": {},
   "source": [
    "I intend to create a linear regression model, a random forest regression model, and three gradient boosted models - built with LightGBM, XGBoost, and CatBoost."
   ]
  },
  {
   "cell_type": "markdown",
   "id": "ab77568a-4d43-42e8-9920-644d9e62862f",
   "metadata": {},
   "source": [
    "My target will be the price column. My features will include the other columns, as I have already trimmed down the dataframe into just the columns I desire."
   ]
  },
  {
   "cell_type": "markdown",
   "id": "e839e65f-8c37-41e6-9aa1-705b6a1dba74",
   "metadata": {},
   "source": [
    "Originally I built models with standardized numeric data, but its impact was trivial. This also prevented me from cross-validating and using GridSearch, so I removed the standardization."
   ]
  },
  {
   "cell_type": "code",
   "execution_count": 21,
   "id": "3a2588e9-65a5-43a8-b20d-8061a20cbda8",
   "metadata": {},
   "outputs": [],
   "source": [
    "def rmse_calc(actual, prediction):\n",
    "    \"\"\"\n",
    "    This function is a shortcut for returning the root mean square error of a prediction or set of predictions.\n",
    "    \"\"\"\n",
    "    rmse = np.sqrt(mean_squared_error(actual, prediction))\n",
    "    return(rmse)"
   ]
  },
  {
   "cell_type": "code",
   "execution_count": 22,
   "id": "62c61521-1957-4469-a49b-4c06d3da60a8",
   "metadata": {},
   "outputs": [],
   "source": [
    "def pop_row(df):\n",
    "    \"\"\"\n",
    "    This function saves a random observation from a dataframe into its own variable, and then removes that row from the original dataframe. \n",
    "    I will use this function to see how long it takes for the models to make one prediction. \n",
    "    \n",
    "    The function takes the dataframe as an input, and saves and drops a row, saves the features and the price into their own feature and \n",
    "    target series, and returns these two series as a tuple.\n",
    "    \"\"\"\n",
    "    my_pred = df.sample(1, random_state=0)\n",
    "    df = df.drop(my_pred.index)\n",
    "    my_pred_feat = my_pred.drop('price', axis=1)\n",
    "    my_pred_target = my_pred.price\n",
    "    return my_pred_feat, my_pred_target"
   ]
  },
  {
   "cell_type": "markdown",
   "id": "f55b2080-0132-4b8d-bf5f-2c55a9b39878",
   "metadata": {},
   "source": [
    "## Linear Regression"
   ]
  },
  {
   "cell_type": "markdown",
   "id": "2cafd5b0-a202-44b2-ab4d-bcc9b8058d13",
   "metadata": {},
   "source": [
    "Let's first train a linear regression model. "
   ]
  },
  {
   "cell_type": "code",
   "execution_count": 23,
   "id": "b3b97955-288c-481c-b69a-8061da506261",
   "metadata": {},
   "outputs": [],
   "source": [
    "df_ohe = pd.get_dummies(df, drop_first=True)\n",
    "\n",
    "target_ohe = df_ohe.price\n",
    "features_ohe = df_ohe.drop('price', axis=1)\n",
    "\n",
    "features_train_ohe, features_test_ohe, target_train_ohe, target_test_ohe = train_test_split(\n",
    "    features_ohe, target_ohe, test_size=0.1, random_state=0)"
   ]
  },
  {
   "cell_type": "code",
   "execution_count": 24,
   "id": "39716fc2-7193-41a5-825c-c99b8418ceb4",
   "metadata": {
    "tags": []
   },
   "outputs": [
    {
     "name": "stdout",
     "output_type": "stream",
     "text": [
      "CPU times: user 18.3 s, sys: 4.07 s, total: 22.4 s\n",
      "Wall time: 22.4 s\n"
     ]
    },
    {
     "data": {
      "text/plain": [
       "LinearRegression()"
      ]
     },
     "execution_count": 24,
     "metadata": {},
     "output_type": "execute_result"
    }
   ],
   "source": [
    "%%time\n",
    "model = LinearRegression()\n",
    "model.fit(features_train_ohe, target_train_ohe)"
   ]
  },
  {
   "cell_type": "markdown",
   "id": "ac010d1d-5230-4f8e-b881-c44a3032e0eb",
   "metadata": {},
   "source": [
    "The model took 22 CPU seconds to train. Let's make our predictions and see how long it takes. We can divide the time by the length of the test set to get the average time taken to make one prediction."
   ]
  },
  {
   "cell_type": "code",
   "execution_count": 25,
   "id": "a15658fc-e36f-4d05-a085-d7172b778bbc",
   "metadata": {},
   "outputs": [
    {
     "name": "stdout",
     "output_type": "stream",
     "text": [
      "CPU times: user 29 ms, sys: 87.4 ms, total: 116 ms\n",
      "Wall time: 120 ms\n"
     ]
    }
   ],
   "source": [
    "%%time\n",
    "pred = model.predict(features_test_ohe)"
   ]
  },
  {
   "cell_type": "code",
   "execution_count": 26,
   "id": "22fec641",
   "metadata": {},
   "outputs": [
    {
     "data": {
      "text/plain": [
       "30674"
      ]
     },
     "execution_count": 26,
     "metadata": {},
     "output_type": "execute_result"
    }
   ],
   "source": [
    "num_predictions = features_test_ohe.shape[0]\n",
    "num_predictions"
   ]
  },
  {
   "cell_type": "code",
   "execution_count": 27,
   "id": "60f72439",
   "metadata": {},
   "outputs": [
    {
     "data": {
      "text/plain": [
       "3.4882962769772445e-06"
      ]
     },
     "execution_count": 27,
     "metadata": {},
     "output_type": "execute_result"
    }
   ],
   "source": [
    "# 0.107 s / 30674 predictions\n",
    ".107 / num_predictions"
   ]
  },
  {
   "cell_type": "markdown",
   "id": "5e1013a7",
   "metadata": {},
   "source": [
    "Each prediction took about 3.5e-6 seconds."
   ]
  },
  {
   "cell_type": "code",
   "execution_count": 28,
   "id": "7b853d34-6415-476a-825a-c1f149c117b6",
   "metadata": {},
   "outputs": [
    {
     "data": {
      "text/plain": [
       "2583.8319217752733"
      ]
     },
     "execution_count": 28,
     "metadata": {},
     "output_type": "execute_result"
    }
   ],
   "source": [
    "model = LinearRegression()\n",
    "scores = cross_val_score(model, features_train_ohe, target_train_ohe, scoring='neg_root_mean_squared_error', cv=5)\n",
    "score = scores.mean() * -1\n",
    "score"
   ]
  },
  {
   "cell_type": "markdown",
   "id": "36fa20ef-d60a-475a-be66-b2a6466fd2a0",
   "metadata": {},
   "source": [
    "A root mean squared error of 2,584 seems like a lot. It seems reasonable to quickly compare RMSE to standard deviation as a sanity check. Let's check that out and then later compare both results with a proper dummy model."
   ]
  },
  {
   "cell_type": "code",
   "execution_count": 29,
   "id": "0a13c913-5514-4848-9c35-6fc694b3712f",
   "metadata": {},
   "outputs": [
    {
     "data": {
      "text/plain": [
       "4584.375334062223"
      ]
     },
     "execution_count": 29,
     "metadata": {},
     "output_type": "execute_result"
    }
   ],
   "source": [
    "np.std(df.price)"
   ]
  },
  {
   "cell_type": "markdown",
   "id": "8a7b9ee0-d628-464b-98c8-8f2b7da88530",
   "metadata": {},
   "source": [
    "The RMSE for this model is definitely lower than one standard deviation."
   ]
  },
  {
   "cell_type": "markdown",
   "id": "6be852d4-24a0-4b30-a220-111e48f19846",
   "metadata": {},
   "source": [
    "So, in conclusion, using a stock linear regression model yields a cross-validated RMSE of 2584. The model took 22 CPU seconds to train and about 3.5e-6 CPU seconds to make one prediction."
   ]
  },
  {
   "cell_type": "markdown",
   "id": "82ece529-b401-42d4-b905-f4b1a9936f49",
   "metadata": {
    "tags": []
   },
   "source": [
    "## Dummy model"
   ]
  },
  {
   "cell_type": "markdown",
   "id": "0bdeef3a-86bb-4053-bf7d-d5dc45d200f9",
   "metadata": {},
   "source": [
    "I do want to score a true dummy model, just to ensure that linear regression is performing better than the mean."
   ]
  },
  {
   "cell_type": "code",
   "execution_count": 30,
   "id": "539557fe-df68-4541-9694-a4f77dcfd8c4",
   "metadata": {},
   "outputs": [
    {
     "name": "stdout",
     "output_type": "stream",
     "text": [
      "RMSE: 4585.715126979061\n"
     ]
    }
   ],
   "source": [
    "predicted_valid = pd.Series(target_train_ohe.mean(), index=target_train_ohe.index)\n",
    "print('RMSE:', rmse_calc(target_train_ohe, predicted_valid))"
   ]
  },
  {
   "cell_type": "markdown",
   "id": "3c280e35-84b1-4cbb-8382-26769d8fa64e",
   "metadata": {},
   "source": [
    "I am happy to see that my thought to compare RMSE with the standard deviation as a quick benchmark seemed to have been valid, given that the std dev value is very similar to the RMSE from simply predicting the mean."
   ]
  },
  {
   "cell_type": "markdown",
   "id": "9ad0cef6-36e7-4084-a490-57280fb6dbac",
   "metadata": {},
   "source": [
    "## Random forest model"
   ]
  },
  {
   "cell_type": "markdown",
   "id": "6324c447-b85c-4628-93fc-0fa8da171a19",
   "metadata": {},
   "source": [
    "Next let's build another familiar model, a random forest regressor. I will loop through different hyperparameters to find those that yield the lowest RMSE. I expect the RMSE for this model to be lower than that of the linear regression model. "
   ]
  },
  {
   "cell_type": "code",
   "execution_count": 31,
   "id": "25886470-927e-4635-9e7b-4534d56f3714",
   "metadata": {},
   "outputs": [],
   "source": [
    "cat_features = ['vehicle_type', 'gearbox', 'model', 'fuel_type', 'brand', 'not_repaired']\n",
    "df_ord = df\n",
    "\n",
    "encoder = OrdinalEncoder()\n",
    "df_ord[cat_features] = encoder.fit_transform(df_ord[cat_features])\n",
    "\n",
    "target_ord = df_ord.price\n",
    "features_ord = df_ord.drop('price', axis=1)\n",
    "\n",
    "features_train_ord, features_test_ord, target_train_ord, target_test_ord = train_test_split(\n",
    "    features_ord, target_ord, test_size=1/10, random_state=0)\n",
    "\n",
    "features_train_ord, features_valid_ord, target_train_ord, target_valid_ord = train_test_split(\n",
    "    features_train_ord, target_train_ord, test_size=1/9, random_state=0)\n",
    "\n",
    "# best_est = 0\n",
    "# best_depth = 0\n",
    "# best_model = None\n",
    "# best_rmse = 1000000\n",
    "# for est in range(100,151,10):\n",
    "#     for depth in range(10,26):\n",
    "#         model = RandomForestRegressor(n_estimators=est, max_depth=depth, random_state=0, max_features='sqrt')\n",
    "#         model.fit(features_train_ord, target_train_ord)\n",
    "#         pred = model.predict(features_valid_ord)\n",
    "#         rmse = rmse_calc(target_valid_ord, pred)\n",
    "        \n",
    "#         print(est, depth, rmse)\n",
    "#         if rmse < best_rmse:\n",
    "#             best_rmse = rmse\n",
    "#             best_model = model\n",
    "#             best_depth = depth\n",
    "#             best_est = est\n",
    "# print(f\"Number of trees: {best_est}\\nMax Depth: {best_depth}\\nBest RMSE: {best_rmse}\")"
   ]
  },
  {
   "cell_type": "markdown",
   "id": "f66060b9-19ff-49e8-91d9-1da650aabb52",
   "metadata": {},
   "source": [
    "I will not use cross-validation for this model evaluation or for future ones due to the large amount of time required. "
   ]
  },
  {
   "cell_type": "code",
   "execution_count": 32,
   "id": "9802b8fe-2810-415d-a15c-5cbbbeaa7349",
   "metadata": {},
   "outputs": [
    {
     "name": "stdout",
     "output_type": "stream",
     "text": [
      "CPU times: user 33.8 s, sys: 660 ms, total: 34.5 s\n",
      "Wall time: 34.5 s\n"
     ]
    },
    {
     "data": {
      "text/plain": [
       "RandomForestRegressor(max_depth=22, max_features='sqrt', random_state=0)"
      ]
     },
     "execution_count": 32,
     "metadata": {},
     "output_type": "execute_result"
    }
   ],
   "source": [
    "%%time\n",
    "model = RandomForestRegressor(n_estimators=100, max_depth=22, random_state=0, max_features='sqrt')\n",
    "model.fit(features_train_ord, target_train_ord)"
   ]
  },
  {
   "cell_type": "markdown",
   "id": "82699220-e64c-46a1-938f-699ab0f90b08",
   "metadata": {},
   "source": [
    "I find it interesting that CPU time is less than the wall time for this model's training, on my local machine."
   ]
  },
  {
   "cell_type": "code",
   "execution_count": 33,
   "id": "1b9a9cfb-08e1-4a2e-86af-c93ad523161e",
   "metadata": {},
   "outputs": [
    {
     "name": "stdout",
     "output_type": "stream",
     "text": [
      "CPU times: user 1.24 s, sys: 11.9 ms, total: 1.25 s\n",
      "Wall time: 1.26 s\n"
     ]
    }
   ],
   "source": [
    "%%time\n",
    "pred = model.predict(features_test_ord)"
   ]
  },
  {
   "cell_type": "code",
   "execution_count": 34,
   "id": "da35265b",
   "metadata": {},
   "outputs": [
    {
     "data": {
      "text/plain": [
       "4.0099106735345893e-05"
      ]
     },
     "execution_count": 34,
     "metadata": {},
     "output_type": "execute_result"
    }
   ],
   "source": [
    "# 1.23 seconds / number of predictions\n",
    "1.23 / num_predictions"
   ]
  },
  {
   "cell_type": "markdown",
   "id": "1d7dbcf7",
   "metadata": {},
   "source": [
    "Each prediction takes about 4.0e-5 seconds."
   ]
  },
  {
   "cell_type": "code",
   "execution_count": 35,
   "id": "6931266a",
   "metadata": {},
   "outputs": [
    {
     "data": {
      "text/plain": [
       "1549.9188003038382"
      ]
     },
     "execution_count": 35,
     "metadata": {},
     "output_type": "execute_result"
    }
   ],
   "source": [
    "rmse_calc(target_test_ord, pred)"
   ]
  },
  {
   "cell_type": "markdown",
   "id": "d0cb5967-e48b-4191-850f-1099538dbf3f",
   "metadata": {},
   "source": [
    "So, the estimated RMSE is 1550. The model took 34.8 CPU seconds to train, and one single prediction took about 4.0e-5 seconds. The RMSE is distinctly superior to that of the lienar regression model."
   ]
  },
  {
   "cell_type": "markdown",
   "id": "447b9f4b-5096-444e-903a-f65f79b24708",
   "metadata": {},
   "source": [
    "## LightGBM"
   ]
  },
  {
   "cell_type": "markdown",
   "id": "d9194c5a-9c18-44a6-807f-a06ad7218415",
   "metadata": {},
   "source": [
    "Next I will train the first gradient boosted model, trying out different hyperparameters."
   ]
  },
  {
   "cell_type": "code",
   "execution_count": 36,
   "id": "91e151e0-f997-43e4-8544-e668fd1b5aad",
   "metadata": {},
   "outputs": [],
   "source": [
    "features = df.drop('price', axis=1)\n",
    "target = df.price"
   ]
  },
  {
   "cell_type": "markdown",
   "id": "6da298aa-9cab-4bb3-ab03-7cda9cc83255",
   "metadata": {},
   "source": [
    "The grid search with cross-validation will take longer than it is worth for this model exploration. \n",
    "\n",
    "I know that n_estimators has a positive relationship with the quality of the model. I will set this value at a high constant and then manually play with different max depths and learning rates."
   ]
  },
  {
   "cell_type": "code",
   "execution_count": 37,
   "id": "513ff669-0693-4bf7-ad58-b8dc9fc4a39a",
   "metadata": {},
   "outputs": [],
   "source": [
    "features_train, features_test, target_train, target_test = train_test_split(\n",
    "    features, target, test_size=1/10, random_state=0)\n",
    "\n",
    "features_train, features_valid, target_train, target_valid = train_test_split(\n",
    "    features_train, target_train, test_size=1/9, random_state=0)"
   ]
  },
  {
   "cell_type": "code",
   "execution_count": 38,
   "id": "03cf9b85-b113-4283-a2bb-9377fb9a3724",
   "metadata": {
    "scrolled": true
   },
   "outputs": [],
   "source": [
    "# best_depth = 0\n",
    "# best_rmse = 1000000\n",
    "# for depth in range(9,17):\n",
    "#     model = LGBMRegressor(n_estimators=5000, max_depth=depth, random_state=0)\n",
    "#     model.fit(features_train, target_train)\n",
    "#     pred = model.predict(features_valid)\n",
    "#     rmse = rmse_calc(target_valid, pred)\n",
    "    \n",
    "#     if rmse < best_rmse:\n",
    "#         best_depth = depth\n",
    "#         best_rmse = rmse\n",
    "\n",
    "# print('depth:', best_depth)\n",
    "# print('rmse:', best_rmse)"
   ]
  },
  {
   "cell_type": "code",
   "execution_count": 39,
   "id": "0312c43c-a3e2-4377-aead-7a0d487cc5b8",
   "metadata": {},
   "outputs": [],
   "source": [
    "# best_rate = 0\n",
    "# best_rmse = 1000000\n",
    "# for rate in [0.05, 0.1, 0.25]:\n",
    "#     model = LGBMRegressor(learning_rate=rate, n_estimators=5000, max_depth=14, random_state=0)\n",
    "#     model.fit(features_train, target_train)\n",
    "#     pred = model.predict(features_valid)\n",
    "#     rmse = rmse_calc(target_valid, pred)\n",
    "\n",
    "#     if rmse < best_rmse:\n",
    "#         best_rmse = rmse\n",
    "#         best_rate = rate\n",
    "        \n",
    "# print('rate:', best_rate)\n",
    "# print(f\"RMSE: {best_rmse}\")"
   ]
  },
  {
   "cell_type": "markdown",
   "id": "8f6e6868-34bf-42e4-90eb-97b4f8525d72",
   "metadata": {},
   "source": [
    "The default learning rate of 0.1 seems like a good rate. Let's use these parameters to validate a final model and see how long it takes to train.\n",
    "\n",
    "I have commented out the hyperparameter tuning code to save time on the final run. Hyperparameter results are found in the model settings below."
   ]
  },
  {
   "cell_type": "code",
   "execution_count": 40,
   "id": "10ec71a5-09c8-45ff-b966-5869712d32c0",
   "metadata": {},
   "outputs": [
    {
     "name": "stdout",
     "output_type": "stream",
     "text": [
      "CPU times: user 2min, sys: 503 ms, total: 2min 1s\n",
      "Wall time: 2min 2s\n"
     ]
    },
    {
     "data": {
      "text/plain": [
       "LGBMRegressor(max_depth=14, n_estimators=5000, random_state=0)"
      ]
     },
     "execution_count": 40,
     "metadata": {},
     "output_type": "execute_result"
    }
   ],
   "source": [
    "%%time\n",
    "model = LGBMRegressor(learning_rate=0.1, n_estimators=5000, max_depth=14, random_state=0)\n",
    "model.fit(features_train, target_train)"
   ]
  },
  {
   "cell_type": "code",
   "execution_count": 41,
   "id": "4a8c8f8e-5c6a-4700-946c-23bf9775873c",
   "metadata": {},
   "outputs": [
    {
     "name": "stdout",
     "output_type": "stream",
     "text": [
      "CPU times: user 23.6 s, sys: 0 ns, total: 23.6 s\n",
      "Wall time: 23.6 s\n"
     ]
    }
   ],
   "source": [
    "%%time\n",
    "pred = model.predict(features_test)"
   ]
  },
  {
   "cell_type": "code",
   "execution_count": 42,
   "id": "4b283149",
   "metadata": {},
   "outputs": [
    {
     "data": {
      "text/plain": [
       "0.0007759014148790507"
      ]
     },
     "execution_count": 42,
     "metadata": {},
     "output_type": "execute_result"
    }
   ],
   "source": [
    "# seconds / number of predictions\n",
    "23.8 / num_predictions"
   ]
  },
  {
   "cell_type": "code",
   "execution_count": 43,
   "id": "42467dd5",
   "metadata": {},
   "outputs": [
    {
     "data": {
      "text/plain": [
       "1516.6295642766017"
      ]
     },
     "execution_count": 43,
     "metadata": {},
     "output_type": "execute_result"
    }
   ],
   "source": [
    "rmse_calc(target_test, pred)"
   ]
  },
  {
   "cell_type": "markdown",
   "id": "af4ce542-6710-4fa6-b2d6-9cde28dcff84",
   "metadata": {},
   "source": [
    "It takes 1min 49s of CPU time to train the model on the full dataset, and about 7.8e-4 seconds to make the one prediction. The estimated RMSE of 1517 is slightly better than the random forest model's rmse of 1550. \n",
    "\n",
    "In terms of model quality, LightGBM achieved a better RMSE, but it took about 3x longer to train."
   ]
  },
  {
   "cell_type": "markdown",
   "id": "b95bf0d2-c378-4c6a-bf70-b59e12a5b975",
   "metadata": {},
   "source": [
    "## CatBoost"
   ]
  },
  {
   "cell_type": "markdown",
   "id": "b9e402b1-1c5e-421e-a24e-97bd9ef648a9",
   "metadata": {},
   "source": [
    "Time to use CatBoost. CatBoost can use just the regular features and targets without additional encoding. I want to first see how well the model performs without tuning hyperparameters."
   ]
  },
  {
   "cell_type": "code",
   "execution_count": 44,
   "id": "d4b3c334-7707-4f2c-b09e-b997d9cb0427",
   "metadata": {},
   "outputs": [],
   "source": [
    "train_dataset = cb.Pool(features_train, target_train)\n",
    "valid_dataset = cb.Pool(features_valid, target_valid)"
   ]
  },
  {
   "cell_type": "code",
   "execution_count": 45,
   "id": "0da04fd8-67e4-4bf7-bf9c-6014799acf05",
   "metadata": {},
   "outputs": [
    {
     "data": {
      "text/plain": [
       "1612.5507581912177"
      ]
     },
     "execution_count": 45,
     "metadata": {},
     "output_type": "execute_result"
    }
   ],
   "source": [
    "model = cb.CatBoostRegressor(random_state=0, loss_function='RMSE', verbose=False)\n",
    "model.fit(features_train, target_train)\n",
    "pred = model.predict(features_valid)\n",
    "rmse_calc(target_valid, pred)"
   ]
  },
  {
   "cell_type": "markdown",
   "id": "f61daf6c-fa56-4538-b3a0-d725168e554e",
   "metadata": {},
   "source": [
    "An RMSE of 1613 seems okay for not tuning any hyperparameters."
   ]
  },
  {
   "cell_type": "code",
   "execution_count": 46,
   "id": "28d12678-327e-4791-bb6d-dc51bccb846a",
   "metadata": {},
   "outputs": [],
   "source": [
    "# %%time\n",
    "# model_cb = cb.CatBoostRegressor(random_state=0, loss_function='RMSE', verbose=False, iterations=5000)\n",
    "# grid = {'learning_rate': [0.03, 0.1],\n",
    "#         'depth': [4, 6, 8],\n",
    "#         'l2_leaf_reg': [0.2, 0.5, 1, 3]\n",
    "#        }\n",
    "\n",
    "# model_cb.grid_search(grid, train_dataset, verbose=False)\n",
    "# pred = model_cb.predict(valid_dataset)\n",
    "# rmse_calc(target_valid, pred)"
   ]
  },
  {
   "cell_type": "code",
   "execution_count": 47,
   "id": "caa70ed1-ab4f-4837-9c3b-9b0814eaa4cc",
   "metadata": {},
   "outputs": [],
   "source": [
    "# model_cb.get_params()"
   ]
  },
  {
   "cell_type": "markdown",
   "id": "e908b4c8-f3a5-4d8f-b222-a015dd32ce41",
   "metadata": {},
   "source": [
    "I have found the best hyperparameters in my small grid. Now I will train a model with these hyperparameters."
   ]
  },
  {
   "cell_type": "code",
   "execution_count": 48,
   "id": "f99e0ef5-f424-44ad-962c-7e71d2a661ff",
   "metadata": {},
   "outputs": [
    {
     "name": "stdout",
     "output_type": "stream",
     "text": [
      "CPU times: user 4min 55s, sys: 1.04 s, total: 4min 56s\n",
      "Wall time: 4min 56s\n"
     ]
    },
    {
     "data": {
      "text/plain": [
       "<catboost.core.CatBoostRegressor at 0x7faa80121c70>"
      ]
     },
     "execution_count": 48,
     "metadata": {},
     "output_type": "execute_result"
    }
   ],
   "source": [
    "%%time\n",
    "model = cb.CatBoostRegressor(random_state=0, loss_function='RMSE', verbose=False, iterations=5000, depth=8, l2_leaf_reg=1, learning_rate=0.1)\n",
    "model.fit(features_train, target_train)"
   ]
  },
  {
   "cell_type": "code",
   "execution_count": 49,
   "id": "1232d101-817c-4b5a-8f2c-a11de8077097",
   "metadata": {},
   "outputs": [
    {
     "name": "stdout",
     "output_type": "stream",
     "text": [
      "CPU times: user 426 ms, sys: 4.14 ms, total: 430 ms\n",
      "Wall time: 437 ms\n"
     ]
    }
   ],
   "source": [
    "%%time\n",
    "pred = model.predict(features_test)"
   ]
  },
  {
   "cell_type": "code",
   "execution_count": 50,
   "id": "e8d2dcd6",
   "metadata": {},
   "outputs": [
    {
     "data": {
      "text/plain": [
       "1.2942557214579124e-05"
      ]
     },
     "execution_count": 50,
     "metadata": {},
     "output_type": "execute_result"
    }
   ],
   "source": [
    "0.397 / num_predictions"
   ]
  },
  {
   "cell_type": "code",
   "execution_count": 51,
   "id": "b2696fa4",
   "metadata": {},
   "outputs": [
    {
     "data": {
      "text/plain": [
       "1516.403187665985"
      ]
     },
     "execution_count": 51,
     "metadata": {},
     "output_type": "execute_result"
    }
   ],
   "source": [
    "rmse_calc(target_test, pred)"
   ]
  },
  {
   "cell_type": "markdown",
   "id": "9d68b5d4-252f-49f6-ab62-9af14e0a67a3",
   "metadata": {},
   "source": [
    "The RMSE for the CatBoost model is 1516. It took 4min 40s CPU time to train. Making one prediction took 1.3e-5 seconds. This model performed very closely to LightGBM in terms of RMSE, and took much longer to train. "
   ]
  },
  {
   "cell_type": "markdown",
   "id": "a8c19ea9-b521-4a49-a1c9-7f7e2c2b7621",
   "metadata": {},
   "source": [
    "I'm going to skip XGBoost. These models take a while to train and to optimize and I feel like I have the general idea of how these models work. "
   ]
  },
  {
   "cell_type": "markdown",
   "id": "dc488b36-5089-4212-afdc-7141a690de7f",
   "metadata": {},
   "source": [
    "# Conclusion"
   ]
  },
  {
   "cell_type": "markdown",
   "id": "0a75c5cc-28d4-4ddc-b27d-1b5e94c57a0f",
   "metadata": {},
   "source": [
    "After training several different models, I found that linear regression was the fastest to train but gave the highest root mean square error. The two gradient boosting models yielded similar RMSE's, but LightGBM's regression model performed better than CatBoost in terms of training speed. Random forest regression trained even more quickly than LightGBM, but had a worse RMSE. It did take LightGBM much more time to make the set of test predictions than CatBoost and random forest, but total training/ prediction time was still less than that of CatBoost. The model will be used to make single predictions at a time by users on their website, and this should take less than a millisecond regardless of model choice. \n",
    "\n",
    "Overall, I would go with the LightGBM regression model for this task due to its compromise between model quality and training time. "
   ]
  }
 ],
 "metadata": {
  "kernelspec": {
   "display_name": "Python 3 (ipykernel)",
   "language": "python",
   "name": "python3"
  },
  "language_info": {
   "codemirror_mode": {
    "name": "ipython",
    "version": 3
   },
   "file_extension": ".py",
   "mimetype": "text/x-python",
   "name": "python",
   "nbconvert_exporter": "python",
   "pygments_lexer": "ipython3",
   "version": "3.9.16"
  },
  "toc": {
   "base_numbering": 1,
   "nav_menu": {},
   "number_sections": true,
   "sideBar": true,
   "skip_h1_title": true,
   "title_cell": "Table of Contents",
   "title_sidebar": "Contents",
   "toc_cell": false,
   "toc_position": {},
   "toc_section_display": true,
   "toc_window_display": false
  }
 },
 "nbformat": 4,
 "nbformat_minor": 5
}
